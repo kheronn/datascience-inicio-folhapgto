{
  "nbformat": 4,
  "nbformat_minor": 0,
  "metadata": {
    "colab": {
      "name": "Folha_Pgto_Estado.ipynb",
      "provenance": [],
      "collapsed_sections": [],
      "toc_visible": true
    },
    "kernelspec": {
      "name": "python3",
      "display_name": "Python 3"
    }
  },
  "cells": [
    {
      "cell_type": "markdown",
      "metadata": {
        "id": "HJsFdaBQLjrK",
        "colab_type": "text"
      },
      "source": [
        "# Importando a Base e Definição do DataFrame\n"
      ]
    },
    {
      "cell_type": "code",
      "metadata": {
        "id": "QxoBiyhCKoTM",
        "colab_type": "code",
        "colab": {}
      },
      "source": [
        "import pandas as pd\n",
        "import matplotlib.pyplot as plt\n",
        "import seaborn as sns\n",
        "import numpy as np"
      ],
      "execution_count": 0,
      "outputs": []
    },
    {
      "cell_type": "code",
      "metadata": {
        "id": "2rgWHDFXWKua",
        "colab_type": "code",
        "outputId": "b7b3b553-1f4c-42f0-e39b-7cd8527b52a0",
        "colab": {
          "base_uri": "https://localhost:8080/",
          "height": 513
        }
      },
      "source": [
        "dados = pd.read_csv('TB_RH.csv', sep =';')\n",
        "dados.head()"
      ],
      "execution_count": 2,
      "outputs": [
        {
          "output_type": "execute_result",
          "data": {
            "text/html": [
              "<div>\n",
              "<style scoped>\n",
              "    .dataframe tbody tr th:only-of-type {\n",
              "        vertical-align: middle;\n",
              "    }\n",
              "\n",
              "    .dataframe tbody tr th {\n",
              "        vertical-align: top;\n",
              "    }\n",
              "\n",
              "    .dataframe thead th {\n",
              "        text-align: right;\n",
              "    }\n",
              "</style>\n",
              "<table border=\"1\" class=\"dataframe\">\n",
              "  <thead>\n",
              "    <tr style=\"text-align: right;\">\n",
              "      <th></th>\n",
              "      <th>cod_vinculo</th>\n",
              "      <th>nome</th>\n",
              "      <th>sigla</th>\n",
              "      <th>instituicao</th>\n",
              "      <th>lotacao</th>\n",
              "      <th>municipio</th>\n",
              "      <th>cargo</th>\n",
              "      <th>dt_inicio</th>\n",
              "      <th>dt_fim</th>\n",
              "      <th>regime</th>\n",
              "      <th>quadro_funcional</th>\n",
              "      <th>quadro_funcional_desc</th>\n",
              "      <th>tipo_cargo</th>\n",
              "      <th>situacao</th>\n",
              "      <th>ult_remu_bruta</th>\n",
              "      <th>genero</th>\n",
              "      <th>ano_nasc</th>\n",
              "      <th>atualizado</th>\n",
              "    </tr>\n",
              "  </thead>\n",
              "  <tbody>\n",
              "    <tr>\n",
              "      <th>0</th>\n",
              "      <td>306548</td>\n",
              "      <td>MARCOS APARECIDO DO NASCIMENTO</td>\n",
              "      <td>SEED</td>\n",
              "      <td>SECRETARIA DA EDUCAÇÃO</td>\n",
              "      <td>ESC EST SAO PEDRO E SAO PAULO</td>\n",
              "      <td>CAMPO LARGO</td>\n",
              "      <td>DOCENTE POR PRAZO DETERMINADO</td>\n",
              "      <td>2012-02-01</td>\n",
              "      <td>2012-04-09</td>\n",
              "      <td>TEMPORÁRIO</td>\n",
              "      <td>CRES</td>\n",
              "      <td>TEMPORÁRIOS</td>\n",
              "      <td>****</td>\n",
              "      <td>DESLIGADO</td>\n",
              "      <td>0.00</td>\n",
              "      <td>M</td>\n",
              "      <td>1968</td>\n",
              "      <td>2016-07-27</td>\n",
              "    </tr>\n",
              "    <tr>\n",
              "      <th>1</th>\n",
              "      <td>263365</td>\n",
              "      <td>MARCOS APARECIDO DO NASCIMENTO</td>\n",
              "      <td>SEED</td>\n",
              "      <td>SECRETARIA DA EDUCAÇÃO</td>\n",
              "      <td>ESC EST JOSE RIBAS VIDAL EF</td>\n",
              "      <td>CAMPO LARGO</td>\n",
              "      <td>DOCENTE POR PRAZO DETERMINADO</td>\n",
              "      <td>2013-02-04</td>\n",
              "      <td>2013-12-31</td>\n",
              "      <td>TEMPORÁRIO</td>\n",
              "      <td>CRES</td>\n",
              "      <td>TEMPORÁRIOS</td>\n",
              "      <td>****</td>\n",
              "      <td>DESLIGADO</td>\n",
              "      <td>0.00</td>\n",
              "      <td>M</td>\n",
              "      <td>1968</td>\n",
              "      <td>2016-07-27</td>\n",
              "    </tr>\n",
              "    <tr>\n",
              "      <th>2</th>\n",
              "      <td>279448</td>\n",
              "      <td>MARCOS APARECIDO DO NASCIMENTO</td>\n",
              "      <td>SEED</td>\n",
              "      <td>SECRETARIA DA EDUCAÇÃO</td>\n",
              "      <td>ESC EST DARLEI ADAD EF</td>\n",
              "      <td>CAMPO LARGO</td>\n",
              "      <td>DOCENTE POR PRAZO DETERMINADO</td>\n",
              "      <td>2014-02-03</td>\n",
              "      <td>2014-12-31</td>\n",
              "      <td>TEMPORÁRIO</td>\n",
              "      <td>CRES</td>\n",
              "      <td>TEMPORÁRIOS</td>\n",
              "      <td>****</td>\n",
              "      <td>DESLIGADO</td>\n",
              "      <td>0.00</td>\n",
              "      <td>M</td>\n",
              "      <td>1968</td>\n",
              "      <td>2016-07-27</td>\n",
              "    </tr>\n",
              "    <tr>\n",
              "      <th>3</th>\n",
              "      <td>370188</td>\n",
              "      <td>MARCOS APARECIDO DO NASCIMENTO</td>\n",
              "      <td>SEED</td>\n",
              "      <td>SECRETARIA DA EDUCAÇÃO</td>\n",
              "      <td>E M ZILDA ARNS NEUMANN-EI EF MOD ED ESP</td>\n",
              "      <td>BALSA NOVA</td>\n",
              "      <td>DOCENTE POR PRAZO DETERMINADO</td>\n",
              "      <td>2016-02-22</td>\n",
              "      <td>2016-12-31</td>\n",
              "      <td>TEMPORÁRIO</td>\n",
              "      <td>CRES</td>\n",
              "      <td>TEMPORÁRIOS</td>\n",
              "      <td>****</td>\n",
              "      <td>DESLIGADO</td>\n",
              "      <td>0.00</td>\n",
              "      <td>M</td>\n",
              "      <td>1968</td>\n",
              "      <td>2017-02-01</td>\n",
              "    </tr>\n",
              "    <tr>\n",
              "      <th>4</th>\n",
              "      <td>489667</td>\n",
              "      <td>MARCOS APARECIDO DO NASCIMENTO</td>\n",
              "      <td>UEM</td>\n",
              "      <td>UNIVERSIDADE ESTADUAL DE MARINGA</td>\n",
              "      <td>DIVISAO DE APOIO</td>\n",
              "      <td>MARINGA</td>\n",
              "      <td>AG. UNIVERSITARIO OPERACIONAL</td>\n",
              "      <td>2002-10-07</td>\n",
              "      <td>NaN</td>\n",
              "      <td>ESTATUTÁRIO</td>\n",
              "      <td>IEES</td>\n",
              "      <td>MAGISTÉRIO SUPERIOR</td>\n",
              "      <td>EFETIVO</td>\n",
              "      <td>ATIVO</td>\n",
              "      <td>6280.09</td>\n",
              "      <td>M</td>\n",
              "      <td>1971</td>\n",
              "      <td>2019-12-01</td>\n",
              "    </tr>\n",
              "  </tbody>\n",
              "</table>\n",
              "</div>"
            ],
            "text/plain": [
              "   cod_vinculo                            nome  ... ano_nasc  atualizado\n",
              "0       306548  MARCOS APARECIDO DO NASCIMENTO  ...     1968  2016-07-27\n",
              "1       263365  MARCOS APARECIDO DO NASCIMENTO  ...     1968  2016-07-27\n",
              "2       279448  MARCOS APARECIDO DO NASCIMENTO  ...     1968  2016-07-27\n",
              "3       370188  MARCOS APARECIDO DO NASCIMENTO  ...     1968  2017-02-01\n",
              "4       489667  MARCOS APARECIDO DO NASCIMENTO  ...     1971  2019-12-01\n",
              "\n",
              "[5 rows x 18 columns]"
            ]
          },
          "metadata": {
            "tags": []
          },
          "execution_count": 2
        }
      ]
    },
    {
      "cell_type": "markdown",
      "metadata": {
        "id": "jxTTXmX1MyB4",
        "colab_type": "text"
      },
      "source": [
        "#Explorando os tipos\n"
      ]
    },
    {
      "cell_type": "code",
      "metadata": {
        "id": "mRw_szoAM1zn",
        "colab_type": "code",
        "outputId": "238c719c-b96c-44db-d264-a2cd67554178",
        "colab": {
          "base_uri": "https://localhost:8080/",
          "height": 607
        }
      },
      "source": [
        "tipo_de_dados = pd.DataFrame(dados.dtypes, columns = ['Tipo de Dados'])\n",
        "tipo_de_dados.columns.name = 'Variáveis'\n",
        "tipo_de_dados"
      ],
      "execution_count": 3,
      "outputs": [
        {
          "output_type": "execute_result",
          "data": {
            "text/html": [
              "<div>\n",
              "<style scoped>\n",
              "    .dataframe tbody tr th:only-of-type {\n",
              "        vertical-align: middle;\n",
              "    }\n",
              "\n",
              "    .dataframe tbody tr th {\n",
              "        vertical-align: top;\n",
              "    }\n",
              "\n",
              "    .dataframe thead th {\n",
              "        text-align: right;\n",
              "    }\n",
              "</style>\n",
              "<table border=\"1\" class=\"dataframe\">\n",
              "  <thead>\n",
              "    <tr style=\"text-align: right;\">\n",
              "      <th>Variáveis</th>\n",
              "      <th>Tipo de Dados</th>\n",
              "    </tr>\n",
              "  </thead>\n",
              "  <tbody>\n",
              "    <tr>\n",
              "      <th>cod_vinculo</th>\n",
              "      <td>int64</td>\n",
              "    </tr>\n",
              "    <tr>\n",
              "      <th>nome</th>\n",
              "      <td>object</td>\n",
              "    </tr>\n",
              "    <tr>\n",
              "      <th>sigla</th>\n",
              "      <td>object</td>\n",
              "    </tr>\n",
              "    <tr>\n",
              "      <th>instituicao</th>\n",
              "      <td>object</td>\n",
              "    </tr>\n",
              "    <tr>\n",
              "      <th>lotacao</th>\n",
              "      <td>object</td>\n",
              "    </tr>\n",
              "    <tr>\n",
              "      <th>municipio</th>\n",
              "      <td>object</td>\n",
              "    </tr>\n",
              "    <tr>\n",
              "      <th>cargo</th>\n",
              "      <td>object</td>\n",
              "    </tr>\n",
              "    <tr>\n",
              "      <th>dt_inicio</th>\n",
              "      <td>object</td>\n",
              "    </tr>\n",
              "    <tr>\n",
              "      <th>dt_fim</th>\n",
              "      <td>object</td>\n",
              "    </tr>\n",
              "    <tr>\n",
              "      <th>regime</th>\n",
              "      <td>object</td>\n",
              "    </tr>\n",
              "    <tr>\n",
              "      <th>quadro_funcional</th>\n",
              "      <td>object</td>\n",
              "    </tr>\n",
              "    <tr>\n",
              "      <th>quadro_funcional_desc</th>\n",
              "      <td>object</td>\n",
              "    </tr>\n",
              "    <tr>\n",
              "      <th>tipo_cargo</th>\n",
              "      <td>object</td>\n",
              "    </tr>\n",
              "    <tr>\n",
              "      <th>situacao</th>\n",
              "      <td>object</td>\n",
              "    </tr>\n",
              "    <tr>\n",
              "      <th>ult_remu_bruta</th>\n",
              "      <td>float64</td>\n",
              "    </tr>\n",
              "    <tr>\n",
              "      <th>genero</th>\n",
              "      <td>object</td>\n",
              "    </tr>\n",
              "    <tr>\n",
              "      <th>ano_nasc</th>\n",
              "      <td>int64</td>\n",
              "    </tr>\n",
              "    <tr>\n",
              "      <th>atualizado</th>\n",
              "      <td>object</td>\n",
              "    </tr>\n",
              "  </tbody>\n",
              "</table>\n",
              "</div>"
            ],
            "text/plain": [
              "Variáveis             Tipo de Dados\n",
              "cod_vinculo                   int64\n",
              "nome                         object\n",
              "sigla                        object\n",
              "instituicao                  object\n",
              "lotacao                      object\n",
              "municipio                    object\n",
              "cargo                        object\n",
              "dt_inicio                    object\n",
              "dt_fim                       object\n",
              "regime                       object\n",
              "quadro_funcional             object\n",
              "quadro_funcional_desc        object\n",
              "tipo_cargo                   object\n",
              "situacao                     object\n",
              "ult_remu_bruta              float64\n",
              "genero                       object\n",
              "ano_nasc                      int64\n",
              "atualizado                   object"
            ]
          },
          "metadata": {
            "tags": []
          },
          "execution_count": 3
        }
      ]
    },
    {
      "cell_type": "code",
      "metadata": {
        "id": "UQ8bMXavMvdo",
        "colab_type": "code",
        "outputId": "0e79cf0e-2315-4bea-d677-9ab7204d3bdd",
        "colab": {
          "base_uri": "https://localhost:8080/",
          "height": 34
        }
      },
      "source": [
        "dados.shape"
      ],
      "execution_count": 4,
      "outputs": [
        {
          "output_type": "execute_result",
          "data": {
            "text/plain": [
              "(666801, 18)"
            ]
          },
          "metadata": {
            "tags": []
          },
          "execution_count": 4
        }
      ]
    },
    {
      "cell_type": "code",
      "metadata": {
        "id": "ZSAqFQdGN82Y",
        "colab_type": "code",
        "outputId": "1990d3e0-2f9e-4398-dd82-1a0f5facfd22",
        "colab": {
          "base_uri": "https://localhost:8080/",
          "height": 34
        }
      },
      "source": [
        "print('O arquivo disponibilizado possui {} registros' .format(dados.shape[0]))"
      ],
      "execution_count": 5,
      "outputs": [
        {
          "output_type": "stream",
          "text": [
            "O arquivo disponibilizado possui 666801 registros\n"
          ],
          "name": "stdout"
        }
      ]
    },
    {
      "cell_type": "markdown",
      "metadata": {
        "id": "LMXg8z6qQjQk",
        "colab_type": "text"
      },
      "source": [
        "#Relatório de Análise"
      ]
    },
    {
      "cell_type": "markdown",
      "metadata": {
        "id": "mbxH2qIdSQBC",
        "colab_type": "text"
      },
      "source": [
        "## Organizando Visualização"
      ]
    },
    {
      "cell_type": "markdown",
      "metadata": {
        "id": "a54FBDobbydB",
        "colab_type": "text"
      },
      "source": [
        "## Filtrando somente servidores ativos"
      ]
    },
    {
      "cell_type": "code",
      "metadata": {
        "id": "F7ZLkGg8ZbNd",
        "colab_type": "code",
        "colab": {}
      },
      "source": [
        "situacao  = ['ATIVO']"
      ],
      "execution_count": 0,
      "outputs": []
    },
    {
      "cell_type": "code",
      "metadata": {
        "id": "JU32zMEza0gr",
        "colab_type": "code",
        "outputId": "0da22dfa-44c5-45f6-acc6-d493aff18c95",
        "colab": {
          "base_uri": "https://localhost:8080/",
          "height": 204
        }
      },
      "source": [
        "dados.situacao.isin(situacao).head(10)"
      ],
      "execution_count": 7,
      "outputs": [
        {
          "output_type": "execute_result",
          "data": {
            "text/plain": [
              "0    False\n",
              "1    False\n",
              "2    False\n",
              "3    False\n",
              "4     True\n",
              "5     True\n",
              "6     True\n",
              "7    False\n",
              "8    False\n",
              "9    False\n",
              "Name: situacao, dtype: bool"
            ]
          },
          "metadata": {
            "tags": []
          },
          "execution_count": 7
        }
      ]
    },
    {
      "cell_type": "code",
      "metadata": {
        "id": "PGbPw1yXbc5A",
        "colab_type": "code",
        "outputId": "dfd86265-0d7f-4a58-8b96-9dc54a52b93a",
        "colab": {
          "base_uri": "https://localhost:8080/",
          "height": 221
        }
      },
      "source": [
        "selecao = dados.situacao.isin(situacao)\n",
        "selecao"
      ],
      "execution_count": 8,
      "outputs": [
        {
          "output_type": "execute_result",
          "data": {
            "text/plain": [
              "0         False\n",
              "1         False\n",
              "2         False\n",
              "3         False\n",
              "4          True\n",
              "          ...  \n",
              "666796    False\n",
              "666797    False\n",
              "666798     True\n",
              "666799    False\n",
              "666800     True\n",
              "Name: situacao, Length: 666801, dtype: bool"
            ]
          },
          "metadata": {
            "tags": []
          },
          "execution_count": 8
        }
      ]
    },
    {
      "cell_type": "code",
      "metadata": {
        "id": "PWSnv0A7bnVz",
        "colab_type": "code",
        "outputId": "90a2129e-e8dc-4da0-a208-a1211dc96dca",
        "colab": {
          "base_uri": "https://localhost:8080/",
          "height": 496
        }
      },
      "source": [
        "dados_ativo = dados[selecao]\n",
        "dados_ativo.head()"
      ],
      "execution_count": 9,
      "outputs": [
        {
          "output_type": "execute_result",
          "data": {
            "text/html": [
              "<div>\n",
              "<style scoped>\n",
              "    .dataframe tbody tr th:only-of-type {\n",
              "        vertical-align: middle;\n",
              "    }\n",
              "\n",
              "    .dataframe tbody tr th {\n",
              "        vertical-align: top;\n",
              "    }\n",
              "\n",
              "    .dataframe thead th {\n",
              "        text-align: right;\n",
              "    }\n",
              "</style>\n",
              "<table border=\"1\" class=\"dataframe\">\n",
              "  <thead>\n",
              "    <tr style=\"text-align: right;\">\n",
              "      <th></th>\n",
              "      <th>cod_vinculo</th>\n",
              "      <th>nome</th>\n",
              "      <th>sigla</th>\n",
              "      <th>instituicao</th>\n",
              "      <th>lotacao</th>\n",
              "      <th>municipio</th>\n",
              "      <th>cargo</th>\n",
              "      <th>dt_inicio</th>\n",
              "      <th>dt_fim</th>\n",
              "      <th>regime</th>\n",
              "      <th>quadro_funcional</th>\n",
              "      <th>quadro_funcional_desc</th>\n",
              "      <th>tipo_cargo</th>\n",
              "      <th>situacao</th>\n",
              "      <th>ult_remu_bruta</th>\n",
              "      <th>genero</th>\n",
              "      <th>ano_nasc</th>\n",
              "      <th>atualizado</th>\n",
              "    </tr>\n",
              "  </thead>\n",
              "  <tbody>\n",
              "    <tr>\n",
              "      <th>4</th>\n",
              "      <td>489667</td>\n",
              "      <td>MARCOS APARECIDO DO NASCIMENTO</td>\n",
              "      <td>UEM</td>\n",
              "      <td>UNIVERSIDADE ESTADUAL DE MARINGA</td>\n",
              "      <td>DIVISAO DE APOIO</td>\n",
              "      <td>MARINGA</td>\n",
              "      <td>AG. UNIVERSITARIO OPERACIONAL</td>\n",
              "      <td>2002-10-07</td>\n",
              "      <td>NaN</td>\n",
              "      <td>ESTATUTÁRIO</td>\n",
              "      <td>IEES</td>\n",
              "      <td>MAGISTÉRIO SUPERIOR</td>\n",
              "      <td>EFETIVO</td>\n",
              "      <td>ATIVO</td>\n",
              "      <td>6280.09</td>\n",
              "      <td>M</td>\n",
              "      <td>1971</td>\n",
              "      <td>2019-12-01</td>\n",
              "    </tr>\n",
              "    <tr>\n",
              "      <th>5</th>\n",
              "      <td>280179</td>\n",
              "      <td>MARCOS APARECIDO DO NASCIMENTO BERNARDO</td>\n",
              "      <td>SEED</td>\n",
              "      <td>SECRETARIA DA EDUCAÇÃO</td>\n",
              "      <td>ESC EST ARTHUR RAMOS</td>\n",
              "      <td>ENGENHEIRO BELTRAO</td>\n",
              "      <td>AGENTE EDUCACIONAL I</td>\n",
              "      <td>2007-06-29</td>\n",
              "      <td>NaN</td>\n",
              "      <td>ESTATUTÁRIO</td>\n",
              "      <td>QFEB</td>\n",
              "      <td>EDUCAÇÃO BÁSICA</td>\n",
              "      <td>EFETIVO</td>\n",
              "      <td>ATIVO</td>\n",
              "      <td>4926.11</td>\n",
              "      <td>M</td>\n",
              "      <td>1970</td>\n",
              "      <td>2019-12-01</td>\n",
              "    </tr>\n",
              "    <tr>\n",
              "      <th>6</th>\n",
              "      <td>18822</td>\n",
              "      <td>MARCOS APARECIDO GIORGINI GALDINO</td>\n",
              "      <td>SEED</td>\n",
              "      <td>SECRETARIA DA EDUCAÇÃO</td>\n",
              "      <td>CEAD-SARANDI</td>\n",
              "      <td>SARANDI</td>\n",
              "      <td>AGENTE EDUCACIONAL II</td>\n",
              "      <td>2010-03-23</td>\n",
              "      <td>NaN</td>\n",
              "      <td>ESTATUTÁRIO</td>\n",
              "      <td>QFEB</td>\n",
              "      <td>EDUCAÇÃO BÁSICA</td>\n",
              "      <td>EFETIVO</td>\n",
              "      <td>ATIVO</td>\n",
              "      <td>5777.95</td>\n",
              "      <td>M</td>\n",
              "      <td>1967</td>\n",
              "      <td>2019-12-01</td>\n",
              "    </tr>\n",
              "    <tr>\n",
              "      <th>11</th>\n",
              "      <td>681871</td>\n",
              "      <td>MARCOS APARECIDO MARQUES</td>\n",
              "      <td>SESP</td>\n",
              "      <td>Secretaria da Segurança Pública e Administraçã...</td>\n",
              "      <td>DEPARTAMENTO PENITENCIARIO - DEPEN</td>\n",
              "      <td>CURITIBA</td>\n",
              "      <td>FUNÇÃO DE GESTÃO PÚBLICA</td>\n",
              "      <td>2019-05-01</td>\n",
              "      <td>NaN</td>\n",
              "      <td>ESTATUTÁRIO</td>\n",
              "      <td>FGP</td>\n",
              "      <td>GESTÃO PÚBLICA</td>\n",
              "      <td>EFETIVO</td>\n",
              "      <td>ATIVO</td>\n",
              "      <td>6088.76</td>\n",
              "      <td>M</td>\n",
              "      <td>1977</td>\n",
              "      <td>2019-12-01</td>\n",
              "    </tr>\n",
              "    <tr>\n",
              "      <th>12</th>\n",
              "      <td>400668</td>\n",
              "      <td>MARCOS APARECIDO MARQUES</td>\n",
              "      <td>SESP</td>\n",
              "      <td>Secretaria da Segurança Pública e Administraçã...</td>\n",
              "      <td>PENIT EST DE FOZ DO IGUACU-PEF</td>\n",
              "      <td>FOZ DO IGUACU</td>\n",
              "      <td>AGENTE PENITENCIÁRIO</td>\n",
              "      <td>2008-04-07</td>\n",
              "      <td>NaN</td>\n",
              "      <td>ESTATUTÁRIO</td>\n",
              "      <td>QPPE</td>\n",
              "      <td>QUADRO GERAL</td>\n",
              "      <td>EFETIVO</td>\n",
              "      <td>ATIVO</td>\n",
              "      <td>6130.43</td>\n",
              "      <td>M</td>\n",
              "      <td>1977</td>\n",
              "      <td>2019-12-01</td>\n",
              "    </tr>\n",
              "  </tbody>\n",
              "</table>\n",
              "</div>"
            ],
            "text/plain": [
              "    cod_vinculo                                     nome  ... ano_nasc  atualizado\n",
              "4        489667           MARCOS APARECIDO DO NASCIMENTO  ...     1971  2019-12-01\n",
              "5        280179  MARCOS APARECIDO DO NASCIMENTO BERNARDO  ...     1970  2019-12-01\n",
              "6         18822        MARCOS APARECIDO GIORGINI GALDINO  ...     1967  2019-12-01\n",
              "11       681871                 MARCOS APARECIDO MARQUES  ...     1977  2019-12-01\n",
              "12       400668                 MARCOS APARECIDO MARQUES  ...     1977  2019-12-01\n",
              "\n",
              "[5 rows x 18 columns]"
            ]
          },
          "metadata": {
            "tags": []
          },
          "execution_count": 9
        }
      ]
    },
    {
      "cell_type": "code",
      "metadata": {
        "id": "aawofNNkb8JO",
        "colab_type": "code",
        "outputId": "46899afd-e1ba-41ec-baad-d8667f9596cc",
        "colab": {
          "base_uri": "https://localhost:8080/",
          "height": 340
        }
      },
      "source": [
        "servidor_mais_velho = dados_ativo.ano_nasc.idxmin()\n",
        "dados_ativo.loc[servidor_mais_velho]"
      ],
      "execution_count": 10,
      "outputs": [
        {
          "output_type": "execute_result",
          "data": {
            "text/plain": [
              "cod_vinculo                                                         648910\n",
              "nome                                                    CARLOS EHLKE BRAGA\n",
              "sigla                                                                  DER\n",
              "instituicao              DEPARTAMENTO DE ESTRADAS DE RODAGEM DO ESTADO ...\n",
              "lotacao                                             DIRETORIA DE OPERACOES\n",
              "municipio                                                         CURITIBA\n",
              "cargo                                             CARGO EM COMISSÃO - 01-C\n",
              "dt_inicio                                                       2019-01-03\n",
              "dt_fim                                                                 NaN\n",
              "regime                                                         ESTATUTÁRIO\n",
              "quadro_funcional                                             COMISSIONADOS\n",
              "quadro_funcional_desc                                        COMISSIONADOS\n",
              "tipo_cargo                                                     EM COMISSÃO\n",
              "situacao                                                             ATIVO\n",
              "ult_remu_bruta                                                     4493.23\n",
              "genero                                                                   M\n",
              "ano_nasc                                                              1929\n",
              "atualizado                                                      2019-12-01\n",
              "Name: 529005, dtype: object"
            ]
          },
          "metadata": {
            "tags": []
          },
          "execution_count": 10
        }
      ]
    },
    {
      "cell_type": "code",
      "metadata": {
        "id": "CruU506OeWHw",
        "colab_type": "code",
        "outputId": "cb1d8e7c-0d22-434f-8489-ec9e69b2681f",
        "colab": {
          "base_uri": "https://localhost:8080/",
          "height": 340
        }
      },
      "source": [
        "servidor_mais_novo = dados_ativo.ano_nasc.idxmax()\n",
        "dados_ativo.loc[servidor_mais_novo]"
      ],
      "execution_count": 11,
      "outputs": [
        {
          "output_type": "execute_result",
          "data": {
            "text/plain": [
              "cod_vinculo                                                646454\n",
              "nome                                            TALITA GARCIA BAI\n",
              "sigla                                                    UNIOESTE\n",
              "instituicao              UNIVERSIDADE ESTADUAL DO OESTE DO PARANA\n",
              "lotacao                                             FOZ DO IGUACU\n",
              "municipio                                           FOZ DO IGUACU\n",
              "cargo                              APRENDIZ - ASSISTENTE ADMINIST\n",
              "dt_inicio                                              2018-10-15\n",
              "dt_fim                                                        NaN\n",
              "regime                                                        CLT\n",
              "quadro_funcional                                             IEES\n",
              "quadro_funcional_desc                         MAGISTÉRIO SUPERIOR\n",
              "tipo_cargo                                                   ****\n",
              "situacao                                                    ATIVO\n",
              "ult_remu_bruta                                             803.15\n",
              "genero                                                          F\n",
              "ano_nasc                                                     2001\n",
              "atualizado                                             2019-12-01\n",
              "Name: 277673, dtype: object"
            ]
          },
          "metadata": {
            "tags": []
          },
          "execution_count": 11
        }
      ]
    },
    {
      "cell_type": "code",
      "metadata": {
        "id": "aLA_yWHhiGPh",
        "colab_type": "code",
        "outputId": "8f01156d-63e9-452e-b71d-e842ddfd9240",
        "colab": {
          "base_uri": "https://localhost:8080/",
          "height": 915
        }
      },
      "source": [
        "dados_ativo.index = range(dados_ativo.shape[0])\n",
        "dados_ativo"
      ],
      "execution_count": 12,
      "outputs": [
        {
          "output_type": "execute_result",
          "data": {
            "text/html": [
              "<div>\n",
              "<style scoped>\n",
              "    .dataframe tbody tr th:only-of-type {\n",
              "        vertical-align: middle;\n",
              "    }\n",
              "\n",
              "    .dataframe tbody tr th {\n",
              "        vertical-align: top;\n",
              "    }\n",
              "\n",
              "    .dataframe thead th {\n",
              "        text-align: right;\n",
              "    }\n",
              "</style>\n",
              "<table border=\"1\" class=\"dataframe\">\n",
              "  <thead>\n",
              "    <tr style=\"text-align: right;\">\n",
              "      <th></th>\n",
              "      <th>cod_vinculo</th>\n",
              "      <th>nome</th>\n",
              "      <th>sigla</th>\n",
              "      <th>instituicao</th>\n",
              "      <th>lotacao</th>\n",
              "      <th>municipio</th>\n",
              "      <th>cargo</th>\n",
              "      <th>dt_inicio</th>\n",
              "      <th>dt_fim</th>\n",
              "      <th>regime</th>\n",
              "      <th>quadro_funcional</th>\n",
              "      <th>quadro_funcional_desc</th>\n",
              "      <th>tipo_cargo</th>\n",
              "      <th>situacao</th>\n",
              "      <th>ult_remu_bruta</th>\n",
              "      <th>genero</th>\n",
              "      <th>ano_nasc</th>\n",
              "      <th>atualizado</th>\n",
              "    </tr>\n",
              "  </thead>\n",
              "  <tbody>\n",
              "    <tr>\n",
              "      <th>0</th>\n",
              "      <td>489667</td>\n",
              "      <td>MARCOS APARECIDO DO NASCIMENTO</td>\n",
              "      <td>UEM</td>\n",
              "      <td>UNIVERSIDADE ESTADUAL DE MARINGA</td>\n",
              "      <td>DIVISAO DE APOIO</td>\n",
              "      <td>MARINGA</td>\n",
              "      <td>AG. UNIVERSITARIO OPERACIONAL</td>\n",
              "      <td>2002-10-07</td>\n",
              "      <td>NaN</td>\n",
              "      <td>ESTATUTÁRIO</td>\n",
              "      <td>IEES</td>\n",
              "      <td>MAGISTÉRIO SUPERIOR</td>\n",
              "      <td>EFETIVO</td>\n",
              "      <td>ATIVO</td>\n",
              "      <td>6280.09</td>\n",
              "      <td>M</td>\n",
              "      <td>1971</td>\n",
              "      <td>2019-12-01</td>\n",
              "    </tr>\n",
              "    <tr>\n",
              "      <th>1</th>\n",
              "      <td>280179</td>\n",
              "      <td>MARCOS APARECIDO DO NASCIMENTO BERNARDO</td>\n",
              "      <td>SEED</td>\n",
              "      <td>SECRETARIA DA EDUCAÇÃO</td>\n",
              "      <td>ESC EST ARTHUR RAMOS</td>\n",
              "      <td>ENGENHEIRO BELTRAO</td>\n",
              "      <td>AGENTE EDUCACIONAL I</td>\n",
              "      <td>2007-06-29</td>\n",
              "      <td>NaN</td>\n",
              "      <td>ESTATUTÁRIO</td>\n",
              "      <td>QFEB</td>\n",
              "      <td>EDUCAÇÃO BÁSICA</td>\n",
              "      <td>EFETIVO</td>\n",
              "      <td>ATIVO</td>\n",
              "      <td>4926.11</td>\n",
              "      <td>M</td>\n",
              "      <td>1970</td>\n",
              "      <td>2019-12-01</td>\n",
              "    </tr>\n",
              "    <tr>\n",
              "      <th>2</th>\n",
              "      <td>18822</td>\n",
              "      <td>MARCOS APARECIDO GIORGINI GALDINO</td>\n",
              "      <td>SEED</td>\n",
              "      <td>SECRETARIA DA EDUCAÇÃO</td>\n",
              "      <td>CEAD-SARANDI</td>\n",
              "      <td>SARANDI</td>\n",
              "      <td>AGENTE EDUCACIONAL II</td>\n",
              "      <td>2010-03-23</td>\n",
              "      <td>NaN</td>\n",
              "      <td>ESTATUTÁRIO</td>\n",
              "      <td>QFEB</td>\n",
              "      <td>EDUCAÇÃO BÁSICA</td>\n",
              "      <td>EFETIVO</td>\n",
              "      <td>ATIVO</td>\n",
              "      <td>5777.95</td>\n",
              "      <td>M</td>\n",
              "      <td>1967</td>\n",
              "      <td>2019-12-01</td>\n",
              "    </tr>\n",
              "    <tr>\n",
              "      <th>3</th>\n",
              "      <td>681871</td>\n",
              "      <td>MARCOS APARECIDO MARQUES</td>\n",
              "      <td>SESP</td>\n",
              "      <td>Secretaria da Segurança Pública e Administraçã...</td>\n",
              "      <td>DEPARTAMENTO PENITENCIARIO - DEPEN</td>\n",
              "      <td>CURITIBA</td>\n",
              "      <td>FUNÇÃO DE GESTÃO PÚBLICA</td>\n",
              "      <td>2019-05-01</td>\n",
              "      <td>NaN</td>\n",
              "      <td>ESTATUTÁRIO</td>\n",
              "      <td>FGP</td>\n",
              "      <td>GESTÃO PÚBLICA</td>\n",
              "      <td>EFETIVO</td>\n",
              "      <td>ATIVO</td>\n",
              "      <td>6088.76</td>\n",
              "      <td>M</td>\n",
              "      <td>1977</td>\n",
              "      <td>2019-12-01</td>\n",
              "    </tr>\n",
              "    <tr>\n",
              "      <th>4</th>\n",
              "      <td>400668</td>\n",
              "      <td>MARCOS APARECIDO MARQUES</td>\n",
              "      <td>SESP</td>\n",
              "      <td>Secretaria da Segurança Pública e Administraçã...</td>\n",
              "      <td>PENIT EST DE FOZ DO IGUACU-PEF</td>\n",
              "      <td>FOZ DO IGUACU</td>\n",
              "      <td>AGENTE PENITENCIÁRIO</td>\n",
              "      <td>2008-04-07</td>\n",
              "      <td>NaN</td>\n",
              "      <td>ESTATUTÁRIO</td>\n",
              "      <td>QPPE</td>\n",
              "      <td>QUADRO GERAL</td>\n",
              "      <td>EFETIVO</td>\n",
              "      <td>ATIVO</td>\n",
              "      <td>6130.43</td>\n",
              "      <td>M</td>\n",
              "      <td>1977</td>\n",
              "      <td>2019-12-01</td>\n",
              "    </tr>\n",
              "    <tr>\n",
              "      <th>...</th>\n",
              "      <td>...</td>\n",
              "      <td>...</td>\n",
              "      <td>...</td>\n",
              "      <td>...</td>\n",
              "      <td>...</td>\n",
              "      <td>...</td>\n",
              "      <td>...</td>\n",
              "      <td>...</td>\n",
              "      <td>...</td>\n",
              "      <td>...</td>\n",
              "      <td>...</td>\n",
              "      <td>...</td>\n",
              "      <td>...</td>\n",
              "      <td>...</td>\n",
              "      <td>...</td>\n",
              "      <td>...</td>\n",
              "      <td>...</td>\n",
              "      <td>...</td>\n",
              "    </tr>\n",
              "    <tr>\n",
              "      <th>168197</th>\n",
              "      <td>7683</td>\n",
              "      <td>MARCOS APARECIDO BATISTA</td>\n",
              "      <td>SESP</td>\n",
              "      <td>Secretaria da Segurança Pública e Administraçã...</td>\n",
              "      <td>AJ GER COMPANHIA DE COMANDO E SERVICOS</td>\n",
              "      <td>CURITIBA</td>\n",
              "      <td>3º. SARGENTO</td>\n",
              "      <td>1997-05-22</td>\n",
              "      <td>NaN</td>\n",
              "      <td>ESTATUTÁRIO</td>\n",
              "      <td>PM</td>\n",
              "      <td>POLÍCIA MILITAR</td>\n",
              "      <td>EFETIVO</td>\n",
              "      <td>ATIVO</td>\n",
              "      <td>5923.99</td>\n",
              "      <td>M</td>\n",
              "      <td>1977</td>\n",
              "      <td>2019-12-01</td>\n",
              "    </tr>\n",
              "    <tr>\n",
              "      <th>168198</th>\n",
              "      <td>639498</td>\n",
              "      <td>MARCOS APARECIDO CALIXTO</td>\n",
              "      <td>SESP</td>\n",
              "      <td>Secretaria da Segurança Pública e Administraçã...</td>\n",
              "      <td>DEPEN-CARCERAGEM LOANDA</td>\n",
              "      <td>LOANDA</td>\n",
              "      <td>PROFISSIONAL DE NÍVEL MÉDIO</td>\n",
              "      <td>2018-07-21</td>\n",
              "      <td>NaN</td>\n",
              "      <td>TEMPORÁRIO</td>\n",
              "      <td>CRES</td>\n",
              "      <td>TEMPORÁRIOS</td>\n",
              "      <td>****</td>\n",
              "      <td>ATIVO</td>\n",
              "      <td>3024.16</td>\n",
              "      <td>M</td>\n",
              "      <td>1975</td>\n",
              "      <td>2019-12-01</td>\n",
              "    </tr>\n",
              "    <tr>\n",
              "      <th>168199</th>\n",
              "      <td>66988</td>\n",
              "      <td>MARCOS APARECIDO CARRASCOZZO</td>\n",
              "      <td>SESP</td>\n",
              "      <td>Secretaria da Segurança Pública e Administraçã...</td>\n",
              "      <td>DECIMO BATALHAO DE POLICIA MILITAR</td>\n",
              "      <td>APUCARANA</td>\n",
              "      <td>1º. SARGENTO</td>\n",
              "      <td>1996-01-24</td>\n",
              "      <td>NaN</td>\n",
              "      <td>ESTATUTÁRIO</td>\n",
              "      <td>PM</td>\n",
              "      <td>POLÍCIA MILITAR</td>\n",
              "      <td>EFETIVO</td>\n",
              "      <td>ATIVO</td>\n",
              "      <td>9620.88</td>\n",
              "      <td>M</td>\n",
              "      <td>1972</td>\n",
              "      <td>2019-12-01</td>\n",
              "    </tr>\n",
              "    <tr>\n",
              "      <th>168200</th>\n",
              "      <td>652992</td>\n",
              "      <td>MARCOS APARECIDO CASTELHAO</td>\n",
              "      <td>SEED</td>\n",
              "      <td>SECRETARIA DA EDUCAÇÃO</td>\n",
              "      <td>ESC EST PARANA</td>\n",
              "      <td>LOANDA</td>\n",
              "      <td>DOCENTE POR PRAZO DETERMINADO</td>\n",
              "      <td>2019-02-11</td>\n",
              "      <td>NaN</td>\n",
              "      <td>TEMPORÁRIO</td>\n",
              "      <td>CRES</td>\n",
              "      <td>TEMPORÁRIOS</td>\n",
              "      <td>****</td>\n",
              "      <td>ATIVO</td>\n",
              "      <td>0.00</td>\n",
              "      <td>M</td>\n",
              "      <td>1982</td>\n",
              "      <td>2019-08-01</td>\n",
              "    </tr>\n",
              "    <tr>\n",
              "      <th>168201</th>\n",
              "      <td>413630</td>\n",
              "      <td>MARCOS APARECIDO DE SOUZA</td>\n",
              "      <td>SESP</td>\n",
              "      <td>Secretaria da Segurança Pública e Administraçã...</td>\n",
              "      <td>ACADEMIA POLICIAL MILITAR DO GUATUPE</td>\n",
              "      <td>SAO JOSE DOS PINHAIS</td>\n",
              "      <td>MAJOR</td>\n",
              "      <td>1992-04-09</td>\n",
              "      <td>NaN</td>\n",
              "      <td>ESTATUTÁRIO</td>\n",
              "      <td>PM</td>\n",
              "      <td>POLÍCIA MILITAR</td>\n",
              "      <td>EFETIVO</td>\n",
              "      <td>ATIVO</td>\n",
              "      <td>22560.02</td>\n",
              "      <td>M</td>\n",
              "      <td>1973</td>\n",
              "      <td>2019-12-01</td>\n",
              "    </tr>\n",
              "  </tbody>\n",
              "</table>\n",
              "<p>168202 rows × 18 columns</p>\n",
              "</div>"
            ],
            "text/plain": [
              "        cod_vinculo  ...  atualizado\n",
              "0            489667  ...  2019-12-01\n",
              "1            280179  ...  2019-12-01\n",
              "2             18822  ...  2019-12-01\n",
              "3            681871  ...  2019-12-01\n",
              "4            400668  ...  2019-12-01\n",
              "...             ...  ...         ...\n",
              "168197         7683  ...  2019-12-01\n",
              "168198       639498  ...  2019-12-01\n",
              "168199        66988  ...  2019-12-01\n",
              "168200       652992  ...  2019-08-01\n",
              "168201       413630  ...  2019-12-01\n",
              "\n",
              "[168202 rows x 18 columns]"
            ]
          },
          "metadata": {
            "tags": []
          },
          "execution_count": 12
        }
      ]
    },
    {
      "cell_type": "code",
      "metadata": {
        "id": "QUUc2mqAiQ-5",
        "colab_type": "code",
        "outputId": "c8548e8f-b008-4367-c294-7fe974db3090",
        "colab": {
          "base_uri": "https://localhost:8080/",
          "height": 898
        }
      },
      "source": [
        "dados_ordenados = dados_ativo.sort_values( by = ['ult_remu_bruta', 'quadro_funcional'])\n",
        "dados_ordenados\n"
      ],
      "execution_count": 13,
      "outputs": [
        {
          "output_type": "execute_result",
          "data": {
            "text/html": [
              "<div>\n",
              "<style scoped>\n",
              "    .dataframe tbody tr th:only-of-type {\n",
              "        vertical-align: middle;\n",
              "    }\n",
              "\n",
              "    .dataframe tbody tr th {\n",
              "        vertical-align: top;\n",
              "    }\n",
              "\n",
              "    .dataframe thead th {\n",
              "        text-align: right;\n",
              "    }\n",
              "</style>\n",
              "<table border=\"1\" class=\"dataframe\">\n",
              "  <thead>\n",
              "    <tr style=\"text-align: right;\">\n",
              "      <th></th>\n",
              "      <th>cod_vinculo</th>\n",
              "      <th>nome</th>\n",
              "      <th>sigla</th>\n",
              "      <th>instituicao</th>\n",
              "      <th>lotacao</th>\n",
              "      <th>municipio</th>\n",
              "      <th>cargo</th>\n",
              "      <th>dt_inicio</th>\n",
              "      <th>dt_fim</th>\n",
              "      <th>regime</th>\n",
              "      <th>quadro_funcional</th>\n",
              "      <th>quadro_funcional_desc</th>\n",
              "      <th>tipo_cargo</th>\n",
              "      <th>situacao</th>\n",
              "      <th>ult_remu_bruta</th>\n",
              "      <th>genero</th>\n",
              "      <th>ano_nasc</th>\n",
              "      <th>atualizado</th>\n",
              "    </tr>\n",
              "  </thead>\n",
              "  <tbody>\n",
              "    <tr>\n",
              "      <th>2603</th>\n",
              "      <td>504025</td>\n",
              "      <td>MARIA AUGUSTA NOGUEIRA SCHWAB</td>\n",
              "      <td>EMATER</td>\n",
              "      <td>INSTITUTO PARANAENSE DE ASSISTÊNCIA TÉCNICA E ...</td>\n",
              "      <td>ESCR. LOCAL DE MAMBORE</td>\n",
              "      <td>CURITIBA</td>\n",
              "      <td>ASSIST. ADMINISTRATIVO</td>\n",
              "      <td>1976-09-01</td>\n",
              "      <td>NaN</td>\n",
              "      <td>CLT</td>\n",
              "      <td>ADM. INDIRETA</td>\n",
              "      <td>ADM. INDIRETA</td>\n",
              "      <td>****</td>\n",
              "      <td>ATIVO</td>\n",
              "      <td>0.00</td>\n",
              "      <td>F</td>\n",
              "      <td>1976</td>\n",
              "      <td>2016-07-27</td>\n",
              "    </tr>\n",
              "    <tr>\n",
              "      <th>3617</th>\n",
              "      <td>581306</td>\n",
              "      <td>MARIA DE FATIMA DE BRITO ROMANO</td>\n",
              "      <td>SESP</td>\n",
              "      <td>Secretaria da Segurança Pública e Administraçã...</td>\n",
              "      <td>DEPARTAMENTO EXEC PENAL-DEPEN</td>\n",
              "      <td>CURITIBA</td>\n",
              "      <td>PAGAMENTO EVENTUAL</td>\n",
              "      <td>2017-11-01</td>\n",
              "      <td>NaN</td>\n",
              "      <td>ESTATUTÁRIO</td>\n",
              "      <td>ADM. INDIRETA</td>\n",
              "      <td>ADM. INDIRETA</td>\n",
              "      <td>EFETIVO</td>\n",
              "      <td>ATIVO</td>\n",
              "      <td>0.00</td>\n",
              "      <td>F</td>\n",
              "      <td>1960</td>\n",
              "      <td>2017-12-06</td>\n",
              "    </tr>\n",
              "    <tr>\n",
              "      <th>4145</th>\n",
              "      <td>580776</td>\n",
              "      <td>MARIA DIAS DA COSTA</td>\n",
              "      <td>SEED</td>\n",
              "      <td>SECRETARIA DA EDUCAÇÃO</td>\n",
              "      <td>ESC EST MACHADO DE ASSIS</td>\n",
              "      <td>TUNEIRAS DO OESTE</td>\n",
              "      <td>PAGAMENTO UNICO</td>\n",
              "      <td>2019-07-15</td>\n",
              "      <td>NaN</td>\n",
              "      <td>CLT</td>\n",
              "      <td>ADM. INDIRETA</td>\n",
              "      <td>ADM. INDIRETA</td>\n",
              "      <td>****</td>\n",
              "      <td>ATIVO</td>\n",
              "      <td>0.00</td>\n",
              "      <td>F</td>\n",
              "      <td>1952</td>\n",
              "      <td>2019-08-01</td>\n",
              "    </tr>\n",
              "    <tr>\n",
              "      <th>4209</th>\n",
              "      <td>489433</td>\n",
              "      <td>ALTAIR DO PRADO</td>\n",
              "      <td>PREDUC</td>\n",
              "      <td>PARANÁ EDUCAÇÃO</td>\n",
              "      <td>COL EST DUQUE DE CAXIAS 1/2GRS</td>\n",
              "      <td>SAUDADE DO IGUACU</td>\n",
              "      <td>AUXILIAR DE SERVICOS GERAIS -</td>\n",
              "      <td>1999-01-25</td>\n",
              "      <td>NaN</td>\n",
              "      <td>CLT</td>\n",
              "      <td>ADM. INDIRETA</td>\n",
              "      <td>ADM. INDIRETA</td>\n",
              "      <td>****</td>\n",
              "      <td>ATIVO</td>\n",
              "      <td>0.00</td>\n",
              "      <td>F</td>\n",
              "      <td>1958</td>\n",
              "      <td>2018-10-02</td>\n",
              "    </tr>\n",
              "    <tr>\n",
              "      <th>4409</th>\n",
              "      <td>486727</td>\n",
              "      <td>MARIA EDUARDA BRANDAO BUENO</td>\n",
              "      <td>UEL</td>\n",
              "      <td>UNIVERSIDADE ESTADUAL DE LONDRINA</td>\n",
              "      <td>HU-DC-RF</td>\n",
              "      <td>LONDRINA</td>\n",
              "      <td>CARGO EM COMISSÃO</td>\n",
              "      <td>2014-03-06</td>\n",
              "      <td>NaN</td>\n",
              "      <td>OUTROS</td>\n",
              "      <td>ADM. INDIRETA</td>\n",
              "      <td>ADM. INDIRETA</td>\n",
              "      <td>****</td>\n",
              "      <td>ATIVO</td>\n",
              "      <td>0.00</td>\n",
              "      <td>F</td>\n",
              "      <td>1991</td>\n",
              "      <td>2016-07-27</td>\n",
              "    </tr>\n",
              "    <tr>\n",
              "      <th>...</th>\n",
              "      <td>...</td>\n",
              "      <td>...</td>\n",
              "      <td>...</td>\n",
              "      <td>...</td>\n",
              "      <td>...</td>\n",
              "      <td>...</td>\n",
              "      <td>...</td>\n",
              "      <td>...</td>\n",
              "      <td>...</td>\n",
              "      <td>...</td>\n",
              "      <td>...</td>\n",
              "      <td>...</td>\n",
              "      <td>...</td>\n",
              "      <td>...</td>\n",
              "      <td>...</td>\n",
              "      <td>...</td>\n",
              "      <td>...</td>\n",
              "      <td>...</td>\n",
              "    </tr>\n",
              "    <tr>\n",
              "      <th>68276</th>\n",
              "      <td>652568</td>\n",
              "      <td>JOAO PAULO RIBEIRO SANTANA</td>\n",
              "      <td>APPA</td>\n",
              "      <td>ADMINISTRAÇÃO DOS PORTOS DE PARANAGUÁ E ANTONINA</td>\n",
              "      <td>DIRETORIA DE MEIO AMBIENTE</td>\n",
              "      <td>PARANAGUA</td>\n",
              "      <td>DIRETOR DE MEIO AMBIENTE</td>\n",
              "      <td>2019-01-16</td>\n",
              "      <td>NaN</td>\n",
              "      <td>CLT</td>\n",
              "      <td>ADM. INDIRETA</td>\n",
              "      <td>ADM. INDIRETA</td>\n",
              "      <td>****</td>\n",
              "      <td>ATIVO</td>\n",
              "      <td>62815.76</td>\n",
              "      <td>M</td>\n",
              "      <td>1981</td>\n",
              "      <td>2019-12-06</td>\n",
              "    </tr>\n",
              "    <tr>\n",
              "      <th>90287</th>\n",
              "      <td>655862</td>\n",
              "      <td>LUIZ TEIXEIRA DA SILVA JUNIOR</td>\n",
              "      <td>APPA</td>\n",
              "      <td>ADMINISTRAÇÃO DOS PORTOS DE PARANAGUÁ E ANTONINA</td>\n",
              "      <td>DIRETORIA DE OPERAÇÕES PORTUÁRIAS</td>\n",
              "      <td>PARANAGUA</td>\n",
              "      <td>DIRETOR DE OPERACOES PORTUARIA</td>\n",
              "      <td>2019-01-29</td>\n",
              "      <td>NaN</td>\n",
              "      <td>CLT</td>\n",
              "      <td>ADM. INDIRETA</td>\n",
              "      <td>ADM. INDIRETA</td>\n",
              "      <td>****</td>\n",
              "      <td>ATIVO</td>\n",
              "      <td>62815.76</td>\n",
              "      <td>M</td>\n",
              "      <td>1949</td>\n",
              "      <td>2019-12-06</td>\n",
              "    </tr>\n",
              "    <tr>\n",
              "      <th>115325</th>\n",
              "      <td>652571</td>\n",
              "      <td>ANDRE LUIZ PIOLI BERNASCKI</td>\n",
              "      <td>APPA</td>\n",
              "      <td>ADMINISTRAÇÃO DOS PORTOS DE PARANAGUÁ E ANTONINA</td>\n",
              "      <td>DIRETORIA DE DESENVOLVIMENTO EMPRESARIAL</td>\n",
              "      <td>PARANAGUA</td>\n",
              "      <td>DIRETOR DE DESENV. EMPRESARIAL</td>\n",
              "      <td>2019-01-16</td>\n",
              "      <td>NaN</td>\n",
              "      <td>CLT</td>\n",
              "      <td>ADM. INDIRETA</td>\n",
              "      <td>ADM. INDIRETA</td>\n",
              "      <td>****</td>\n",
              "      <td>ATIVO</td>\n",
              "      <td>62815.76</td>\n",
              "      <td>M</td>\n",
              "      <td>1978</td>\n",
              "      <td>2019-12-06</td>\n",
              "    </tr>\n",
              "    <tr>\n",
              "      <th>89718</th>\n",
              "      <td>652570</td>\n",
              "      <td>LUIZ FERNANDO GARCIA DA SILVA</td>\n",
              "      <td>APPA</td>\n",
              "      <td>ADMINISTRAÇÃO DOS PORTOS DE PARANAGUÁ E ANTONINA</td>\n",
              "      <td>PRESIDÊNCIA</td>\n",
              "      <td>PARANAGUA</td>\n",
              "      <td>DIRETOR PRESIDENTE</td>\n",
              "      <td>2019-01-09</td>\n",
              "      <td>NaN</td>\n",
              "      <td>CLT</td>\n",
              "      <td>ADM. INDIRETA</td>\n",
              "      <td>ADM. INDIRETA</td>\n",
              "      <td>****</td>\n",
              "      <td>ATIVO</td>\n",
              "      <td>64589.56</td>\n",
              "      <td>M</td>\n",
              "      <td>1984</td>\n",
              "      <td>2019-12-06</td>\n",
              "    </tr>\n",
              "    <tr>\n",
              "      <th>69436</th>\n",
              "      <td>432303</td>\n",
              "      <td>JOICE MALAKOSKI</td>\n",
              "      <td>SESP</td>\n",
              "      <td>Secretaria da Segurança Pública e Administraçã...</td>\n",
              "      <td>INSTITUTO DE CRIMINALISTICA DE CURITIBA</td>\n",
              "      <td>CURITIBA</td>\n",
              "      <td>PERITO OFICIAL</td>\n",
              "      <td>1995-03-28</td>\n",
              "      <td>NaN</td>\n",
              "      <td>ESTATUTÁRIO</td>\n",
              "      <td>QPPO</td>\n",
              "      <td>PERITOS OFICIAIS</td>\n",
              "      <td>EFETIVO</td>\n",
              "      <td>ATIVO</td>\n",
              "      <td>108303.48</td>\n",
              "      <td>F</td>\n",
              "      <td>1967</td>\n",
              "      <td>2019-12-01</td>\n",
              "    </tr>\n",
              "  </tbody>\n",
              "</table>\n",
              "<p>168202 rows × 18 columns</p>\n",
              "</div>"
            ],
            "text/plain": [
              "        cod_vinculo                             nome  ... ano_nasc  atualizado\n",
              "2603         504025    MARIA AUGUSTA NOGUEIRA SCHWAB  ...     1976  2016-07-27\n",
              "3617         581306  MARIA DE FATIMA DE BRITO ROMANO  ...     1960  2017-12-06\n",
              "4145         580776              MARIA DIAS DA COSTA  ...     1952  2019-08-01\n",
              "4209         489433                  ALTAIR DO PRADO  ...     1958  2018-10-02\n",
              "4409         486727      MARIA EDUARDA BRANDAO BUENO  ...     1991  2016-07-27\n",
              "...             ...                              ...  ...      ...         ...\n",
              "68276        652568       JOAO PAULO RIBEIRO SANTANA  ...     1981  2019-12-06\n",
              "90287        655862    LUIZ TEIXEIRA DA SILVA JUNIOR  ...     1949  2019-12-06\n",
              "115325       652571       ANDRE LUIZ PIOLI BERNASCKI  ...     1978  2019-12-06\n",
              "89718        652570    LUIZ FERNANDO GARCIA DA SILVA  ...     1984  2019-12-06\n",
              "69436        432303                  JOICE MALAKOSKI  ...     1967  2019-12-01\n",
              "\n",
              "[168202 rows x 18 columns]"
            ]
          },
          "metadata": {
            "tags": []
          },
          "execution_count": 13
        }
      ]
    },
    {
      "cell_type": "code",
      "metadata": {
        "id": "VxqkOfNJJ3p_",
        "colab_type": "code",
        "outputId": "f5fbd5b8-d079-4516-df55-998113366a35",
        "colab": {
          "base_uri": "https://localhost:8080/",
          "height": 221
        }
      },
      "source": [
        "dados_ativo.sigla.value_counts()"
      ],
      "execution_count": 14,
      "outputs": [
        {
          "output_type": "execute_result",
          "data": {
            "text/plain": [
              "SEED       99176\n",
              "SESP       29085\n",
              "SESA        7727\n",
              "UEL         5329\n",
              "UEM         3942\n",
              "           ...  \n",
              "CPRA           5\n",
              "SEET           2\n",
              "FAFI-UV        2\n",
              "FAFICOP        1\n",
              "SETI           1\n",
              "Name: sigla, Length: 73, dtype: int64"
            ]
          },
          "metadata": {
            "tags": []
          },
          "execution_count": 14
        }
      ]
    },
    {
      "cell_type": "code",
      "metadata": {
        "id": "fQpPsTS7KITr",
        "colab_type": "code",
        "outputId": "d05b24d2-76b8-4d9c-aa76-7a555801b5af",
        "colab": {
          "base_uri": "https://localhost:8080/",
          "height": 34
        }
      },
      "source": [
        "dados_ativo.regime.unique()"
      ],
      "execution_count": 15,
      "outputs": [
        {
          "output_type": "execute_result",
          "data": {
            "text/plain": [
              "array(['ESTATUTÁRIO', 'CLT', 'TEMPORÁRIO', 'CRES', 'OUTROS'], dtype=object)"
            ]
          },
          "metadata": {
            "tags": []
          },
          "execution_count": 15
        }
      ]
    },
    {
      "cell_type": "code",
      "metadata": {
        "id": "AatUg4soDRvC",
        "colab_type": "code",
        "outputId": "2d24da74-b9bf-4eac-87ab-0b30229f57d4",
        "colab": {
          "base_uri": "https://localhost:8080/",
          "height": 119
        }
      },
      "source": [
        "dados_ativo.regime.value_counts() \n"
      ],
      "execution_count": 16,
      "outputs": [
        {
          "output_type": "execute_result",
          "data": {
            "text/plain": [
              "ESTATUTÁRIO    133214\n",
              "TEMPORÁRIO      27330\n",
              "CLT              4656\n",
              "CRES             1945\n",
              "OUTROS           1057\n",
              "Name: regime, dtype: int64"
            ]
          },
          "metadata": {
            "tags": []
          },
          "execution_count": 16
        }
      ]
    },
    {
      "cell_type": "code",
      "metadata": {
        "id": "bYjuaRvz3H0d",
        "colab_type": "code",
        "colab": {
          "base_uri": "https://localhost:8080/",
          "height": 282
        },
        "outputId": "bf281ddb-3d38-4f25-ca57-5a49cb3a5460"
      },
      "source": [
        "dados_ativo['ult_remu_bruta'].plot.hist(bins = 30, edgecolor='black')"
      ],
      "execution_count": 24,
      "outputs": [
        {
          "output_type": "execute_result",
          "data": {
            "text/plain": [
              "<matplotlib.axes._subplots.AxesSubplot at 0x7fc64b87f9b0>"
            ]
          },
          "metadata": {
            "tags": []
          },
          "execution_count": 24
        },
        {
          "output_type": "display_data",
          "data": {
            "image/png": "[encoded data removed]",
            "text/plain": [
              "<Figure size 432x288 with 1 Axes>"
            ]
          },
          "metadata": {
            "tags": []
          }
        }
      ]
    },
    {
      "cell_type": "code",
      "metadata": {
        "id": "cj9svJ8ONn3I",
        "colab_type": "code",
        "outputId": "a2bcdbc3-b5fc-43a0-de5c-89492d569df3",
        "colab": {
          "base_uri": "https://localhost:8080/",
          "height": 386
        }
      },
      "source": [
        "sns.catplot(x = \"regime\", data = dados_ativo, kind=\"count\", aspect=2)\n"
      ],
      "execution_count": 25,
      "outputs": [
        {
          "output_type": "execute_result",
          "data": {
            "text/plain": [
              "<seaborn.axisgrid.FacetGrid at 0x7fc64bb9cb00>"
            ]
          },
          "metadata": {
            "tags": []
          },
          "execution_count": 25
        },
        {
          "output_type": "display_data",
          "data": {
            "image/png": "[encoded data removed]",
            "text/plain": [
              "<Figure size 720x360 with 1 Axes>"
            ]
          },
          "metadata": {
            "tags": []
          }
        }
      ]
    },
    {
      "cell_type": "code",
      "metadata": {
        "id": "UaBHIdNQKiod",
        "colab_type": "code",
        "outputId": "4326e3e5-056c-4e26-f8d5-2848db41ee53",
        "colab": {
          "base_uri": "https://localhost:8080/",
          "height": 136
        }
      },
      "source": [
        "medias_por_departamento = dados_ativo.groupby('sigla').mean()['ult_remu_bruta']\n",
        "medias_por_departamento.head(5)"
      ],
      "execution_count": 26,
      "outputs": [
        {
          "output_type": "execute_result",
          "data": {
            "text/plain": [
              "sigla\n",
              "ADAPAR          8356.056591\n",
              "AGEPAR          9224.208947\n",
              "AGUASPARANA    10918.150260\n",
              "APPA            8902.678282\n",
              "BPP            10310.974615\n",
              "Name: ult_remu_bruta, dtype: float64"
            ]
          },
          "metadata": {
            "tags": []
          },
          "execution_count": 26
        }
      ]
    },
    {
      "cell_type": "code",
      "metadata": {
        "id": "j2ngnSQnMMTB",
        "colab_type": "code",
        "outputId": "9921d270-db1b-4331-9744-12f56956a286",
        "colab": {
          "base_uri": "https://localhost:8080/",
          "height": 688
        }
      },
      "source": [
        "plt.figure(figsize=(50, 6))\n",
        "sns.catplot(data= dados_ativo, x = dados_ativo.regime , kind='count')"
      ],
      "execution_count": 27,
      "outputs": [
        {
          "output_type": "error",
          "ename": "ValueError",
          "evalue": "ignored",
          "traceback": [
            "\u001b[0;31m---------------------------------------------------------------------------\u001b[0m",
            "\u001b[0;31mValueError\u001b[0m                                Traceback (most recent call last)",
            "\u001b[0;32m<ipython-input-27-4fb0197a56df>\u001b[0m in \u001b[0;36m<module>\u001b[0;34m()\u001b[0m\n\u001b[1;32m      1\u001b[0m \u001b[0mplt\u001b[0m\u001b[0;34m.\u001b[0m\u001b[0mfigure\u001b[0m\u001b[0;34m(\u001b[0m\u001b[0mfigsize\u001b[0m\u001b[0;34m=\u001b[0m\u001b[0;34m(\u001b[0m\u001b[0;36m50\u001b[0m\u001b[0;34m,\u001b[0m \u001b[0;36m6\u001b[0m\u001b[0;34m)\u001b[0m\u001b[0;34m)\u001b[0m\u001b[0;34m\u001b[0m\u001b[0;34m\u001b[0m\u001b[0m\n\u001b[0;32m----> 2\u001b[0;31m \u001b[0msns\u001b[0m\u001b[0;34m.\u001b[0m\u001b[0mcatplot\u001b[0m\u001b[0;34m(\u001b[0m\u001b[0mdata\u001b[0m\u001b[0;34m=\u001b[0m \u001b[0mdados_ativo\u001b[0m\u001b[0;34m,\u001b[0m \u001b[0mx\u001b[0m \u001b[0;34m=\u001b[0m \u001b[0mdados_ativo\u001b[0m\u001b[0;34m.\u001b[0m\u001b[0mregime\u001b[0m \u001b[0;34m,\u001b[0m \u001b[0mkind\u001b[0m\u001b[0;34m=\u001b[0m\u001b[0;34m'count'\u001b[0m\u001b[0;34m)\u001b[0m\u001b[0;34m\u001b[0m\u001b[0;34m\u001b[0m\u001b[0m\n\u001b[0m",
            "\u001b[0;32m/usr/local/lib/python3.6/dist-packages/seaborn/categorical.py\u001b[0m in \u001b[0;36mcatplot\u001b[0;34m(x, y, hue, data, row, col, col_wrap, estimator, ci, n_boot, units, order, hue_order, row_order, col_order, kind, height, aspect, orient, color, palette, legend, legend_out, sharex, sharey, margin_titles, facet_kws, **kwargs)\u001b[0m\n\u001b[1;32m   3753\u001b[0m \u001b[0;34m\u001b[0m\u001b[0m\n\u001b[1;32m   3754\u001b[0m     \u001b[0;31m# Draw the plot onto the facets\u001b[0m\u001b[0;34m\u001b[0m\u001b[0;34m\u001b[0m\u001b[0;34m\u001b[0m\u001b[0m\n\u001b[0;32m-> 3755\u001b[0;31m     \u001b[0mg\u001b[0m\u001b[0;34m.\u001b[0m\u001b[0mmap_dataframe\u001b[0m\u001b[0;34m(\u001b[0m\u001b[0mplot_func\u001b[0m\u001b[0;34m,\u001b[0m \u001b[0mx\u001b[0m\u001b[0;34m,\u001b[0m \u001b[0my\u001b[0m\u001b[0;34m,\u001b[0m \u001b[0mhue\u001b[0m\u001b[0;34m,\u001b[0m \u001b[0;34m**\u001b[0m\u001b[0mplot_kws\u001b[0m\u001b[0;34m)\u001b[0m\u001b[0;34m\u001b[0m\u001b[0;34m\u001b[0m\u001b[0m\n\u001b[0m\u001b[1;32m   3756\u001b[0m \u001b[0;34m\u001b[0m\u001b[0m\n\u001b[1;32m   3757\u001b[0m     \u001b[0;31m# Special case axis labels for a count type plot\u001b[0m\u001b[0;34m\u001b[0m\u001b[0;34m\u001b[0m\u001b[0;34m\u001b[0m\u001b[0m\n",
            "\u001b[0;32m/usr/local/lib/python3.6/dist-packages/seaborn/axisgrid.py\u001b[0m in \u001b[0;36mmap_dataframe\u001b[0;34m(self, func, *args, **kwargs)\u001b[0m\n\u001b[1;32m    821\u001b[0m \u001b[0;34m\u001b[0m\u001b[0m\n\u001b[1;32m    822\u001b[0m         \u001b[0;31m# Finalize the annotations and layout\u001b[0m\u001b[0;34m\u001b[0m\u001b[0;34m\u001b[0m\u001b[0;34m\u001b[0m\u001b[0m\n\u001b[0;32m--> 823\u001b[0;31m         \u001b[0mself\u001b[0m\u001b[0;34m.\u001b[0m\u001b[0m_finalize_grid\u001b[0m\u001b[0;34m(\u001b[0m\u001b[0margs\u001b[0m\u001b[0;34m[\u001b[0m\u001b[0;34m:\u001b[0m\u001b[0;36m2\u001b[0m\u001b[0;34m]\u001b[0m\u001b[0;34m)\u001b[0m\u001b[0;34m\u001b[0m\u001b[0;34m\u001b[0m\u001b[0m\n\u001b[0m\u001b[1;32m    824\u001b[0m \u001b[0;34m\u001b[0m\u001b[0m\n\u001b[1;32m    825\u001b[0m         \u001b[0;32mreturn\u001b[0m \u001b[0mself\u001b[0m\u001b[0;34m\u001b[0m\u001b[0;34m\u001b[0m\u001b[0m\n",
            "\u001b[0;32m/usr/local/lib/python3.6/dist-packages/seaborn/axisgrid.py\u001b[0m in \u001b[0;36m_finalize_grid\u001b[0;34m(self, axlabels)\u001b[0m\n\u001b[1;32m    844\u001b[0m     \u001b[0;32mdef\u001b[0m \u001b[0m_finalize_grid\u001b[0m\u001b[0;34m(\u001b[0m\u001b[0mself\u001b[0m\u001b[0;34m,\u001b[0m \u001b[0maxlabels\u001b[0m\u001b[0;34m)\u001b[0m\u001b[0;34m:\u001b[0m\u001b[0;34m\u001b[0m\u001b[0;34m\u001b[0m\u001b[0m\n\u001b[1;32m    845\u001b[0m         \u001b[0;34m\"\"\"Finalize the annotations and layout.\"\"\"\u001b[0m\u001b[0;34m\u001b[0m\u001b[0;34m\u001b[0m\u001b[0m\n\u001b[0;32m--> 846\u001b[0;31m         \u001b[0mself\u001b[0m\u001b[0;34m.\u001b[0m\u001b[0mset_axis_labels\u001b[0m\u001b[0;34m(\u001b[0m\u001b[0;34m*\u001b[0m\u001b[0maxlabels\u001b[0m\u001b[0;34m)\u001b[0m\u001b[0;34m\u001b[0m\u001b[0;34m\u001b[0m\u001b[0m\n\u001b[0m\u001b[1;32m    847\u001b[0m         \u001b[0mself\u001b[0m\u001b[0;34m.\u001b[0m\u001b[0mset_titles\u001b[0m\u001b[0;34m(\u001b[0m\u001b[0;34m)\u001b[0m\u001b[0;34m\u001b[0m\u001b[0;34m\u001b[0m\u001b[0m\n\u001b[1;32m    848\u001b[0m         \u001b[0mself\u001b[0m\u001b[0;34m.\u001b[0m\u001b[0mfig\u001b[0m\u001b[0;34m.\u001b[0m\u001b[0mtight_layout\u001b[0m\u001b[0;34m(\u001b[0m\u001b[0;34m)\u001b[0m\u001b[0;34m\u001b[0m\u001b[0;34m\u001b[0m\u001b[0m\n",
            "\u001b[0;32m/usr/local/lib/python3.6/dist-packages/seaborn/axisgrid.py\u001b[0m in \u001b[0;36mset_axis_labels\u001b[0;34m(self, x_var, y_var)\u001b[0m\n\u001b[1;32m    870\u001b[0m         \u001b[0;32mif\u001b[0m \u001b[0mx_var\u001b[0m \u001b[0;32mis\u001b[0m \u001b[0;32mnot\u001b[0m \u001b[0;32mNone\u001b[0m\u001b[0;34m:\u001b[0m\u001b[0;34m\u001b[0m\u001b[0;34m\u001b[0m\u001b[0m\n\u001b[1;32m    871\u001b[0m             \u001b[0mself\u001b[0m\u001b[0;34m.\u001b[0m\u001b[0m_x_var\u001b[0m \u001b[0;34m=\u001b[0m \u001b[0mx_var\u001b[0m\u001b[0;34m\u001b[0m\u001b[0;34m\u001b[0m\u001b[0m\n\u001b[0;32m--> 872\u001b[0;31m             \u001b[0mself\u001b[0m\u001b[0;34m.\u001b[0m\u001b[0mset_xlabels\u001b[0m\u001b[0;34m(\u001b[0m\u001b[0mx_var\u001b[0m\u001b[0;34m)\u001b[0m\u001b[0;34m\u001b[0m\u001b[0;34m\u001b[0m\u001b[0m\n\u001b[0m\u001b[1;32m    873\u001b[0m         \u001b[0;32mif\u001b[0m \u001b[0my_var\u001b[0m \u001b[0;32mis\u001b[0m \u001b[0;32mnot\u001b[0m \u001b[0;32mNone\u001b[0m\u001b[0;34m:\u001b[0m\u001b[0;34m\u001b[0m\u001b[0;34m\u001b[0m\u001b[0m\n\u001b[1;32m    874\u001b[0m             \u001b[0mself\u001b[0m\u001b[0;34m.\u001b[0m\u001b[0m_y_var\u001b[0m \u001b[0;34m=\u001b[0m \u001b[0my_var\u001b[0m\u001b[0;34m\u001b[0m\u001b[0;34m\u001b[0m\u001b[0m\n",
            "\u001b[0;32m/usr/local/lib/python3.6/dist-packages/seaborn/axisgrid.py\u001b[0m in \u001b[0;36mset_xlabels\u001b[0;34m(self, label, **kwargs)\u001b[0m\n\u001b[1;32m    881\u001b[0m             \u001b[0mlabel\u001b[0m \u001b[0;34m=\u001b[0m \u001b[0mself\u001b[0m\u001b[0;34m.\u001b[0m\u001b[0m_x_var\u001b[0m\u001b[0;34m\u001b[0m\u001b[0;34m\u001b[0m\u001b[0m\n\u001b[1;32m    882\u001b[0m         \u001b[0;32mfor\u001b[0m \u001b[0max\u001b[0m \u001b[0;32min\u001b[0m \u001b[0mself\u001b[0m\u001b[0;34m.\u001b[0m\u001b[0m_bottom_axes\u001b[0m\u001b[0;34m:\u001b[0m\u001b[0;34m\u001b[0m\u001b[0;34m\u001b[0m\u001b[0m\n\u001b[0;32m--> 883\u001b[0;31m             \u001b[0max\u001b[0m\u001b[0;34m.\u001b[0m\u001b[0mset_xlabel\u001b[0m\u001b[0;34m(\u001b[0m\u001b[0mlabel\u001b[0m\u001b[0;34m,\u001b[0m \u001b[0;34m**\u001b[0m\u001b[0mkwargs\u001b[0m\u001b[0;34m)\u001b[0m\u001b[0;34m\u001b[0m\u001b[0;34m\u001b[0m\u001b[0m\n\u001b[0m\u001b[1;32m    884\u001b[0m         \u001b[0;32mreturn\u001b[0m \u001b[0mself\u001b[0m\u001b[0;34m\u001b[0m\u001b[0;34m\u001b[0m\u001b[0m\n\u001b[1;32m    885\u001b[0m \u001b[0;34m\u001b[0m\u001b[0m\n",
            "\u001b[0;32m/usr/local/lib/python3.6/dist-packages/matplotlib/axes/_axes.py\u001b[0m in \u001b[0;36mset_xlabel\u001b[0;34m(self, xlabel, fontdict, labelpad, **kwargs)\u001b[0m\n\u001b[1;32m    245\u001b[0m         \u001b[0;32mif\u001b[0m \u001b[0mlabelpad\u001b[0m \u001b[0;32mis\u001b[0m \u001b[0;32mnot\u001b[0m \u001b[0;32mNone\u001b[0m\u001b[0;34m:\u001b[0m\u001b[0;34m\u001b[0m\u001b[0;34m\u001b[0m\u001b[0m\n\u001b[1;32m    246\u001b[0m             \u001b[0mself\u001b[0m\u001b[0;34m.\u001b[0m\u001b[0mxaxis\u001b[0m\u001b[0;34m.\u001b[0m\u001b[0mlabelpad\u001b[0m \u001b[0;34m=\u001b[0m \u001b[0mlabelpad\u001b[0m\u001b[0;34m\u001b[0m\u001b[0;34m\u001b[0m\u001b[0m\n\u001b[0;32m--> 247\u001b[0;31m         \u001b[0;32mreturn\u001b[0m \u001b[0mself\u001b[0m\u001b[0;34m.\u001b[0m\u001b[0mxaxis\u001b[0m\u001b[0;34m.\u001b[0m\u001b[0mset_label_text\u001b[0m\u001b[0;34m(\u001b[0m\u001b[0mxlabel\u001b[0m\u001b[0;34m,\u001b[0m \u001b[0mfontdict\u001b[0m\u001b[0;34m,\u001b[0m \u001b[0;34m**\u001b[0m\u001b[0mkwargs\u001b[0m\u001b[0;34m)\u001b[0m\u001b[0;34m\u001b[0m\u001b[0;34m\u001b[0m\u001b[0m\n\u001b[0m\u001b[1;32m    248\u001b[0m \u001b[0;34m\u001b[0m\u001b[0m\n\u001b[1;32m    249\u001b[0m     \u001b[0;32mdef\u001b[0m \u001b[0mget_ylabel\u001b[0m\u001b[0;34m(\u001b[0m\u001b[0mself\u001b[0m\u001b[0;34m)\u001b[0m\u001b[0;34m:\u001b[0m\u001b[0;34m\u001b[0m\u001b[0;34m\u001b[0m\u001b[0m\n",
            "\u001b[0;32m/usr/local/lib/python3.6/dist-packages/matplotlib/axis.py\u001b[0m in \u001b[0;36mset_label_text\u001b[0;34m(self, label, fontdict, **kwargs)\u001b[0m\n\u001b[1;32m   1594\u001b[0m         \"\"\"\n\u001b[1;32m   1595\u001b[0m         \u001b[0mself\u001b[0m\u001b[0;34m.\u001b[0m\u001b[0misDefault_label\u001b[0m \u001b[0;34m=\u001b[0m \u001b[0;32mFalse\u001b[0m\u001b[0;34m\u001b[0m\u001b[0;34m\u001b[0m\u001b[0m\n\u001b[0;32m-> 1596\u001b[0;31m         \u001b[0mself\u001b[0m\u001b[0;34m.\u001b[0m\u001b[0mlabel\u001b[0m\u001b[0;34m.\u001b[0m\u001b[0mset_text\u001b[0m\u001b[0;34m(\u001b[0m\u001b[0mlabel\u001b[0m\u001b[0;34m)\u001b[0m\u001b[0;34m\u001b[0m\u001b[0;34m\u001b[0m\u001b[0m\n\u001b[0m\u001b[1;32m   1597\u001b[0m         \u001b[0;32mif\u001b[0m \u001b[0mfontdict\u001b[0m \u001b[0;32mis\u001b[0m \u001b[0;32mnot\u001b[0m \u001b[0;32mNone\u001b[0m\u001b[0;34m:\u001b[0m\u001b[0;34m\u001b[0m\u001b[0;34m\u001b[0m\u001b[0m\n\u001b[1;32m   1598\u001b[0m             \u001b[0mself\u001b[0m\u001b[0;34m.\u001b[0m\u001b[0mlabel\u001b[0m\u001b[0;34m.\u001b[0m\u001b[0mupdate\u001b[0m\u001b[0;34m(\u001b[0m\u001b[0mfontdict\u001b[0m\u001b[0;34m)\u001b[0m\u001b[0;34m\u001b[0m\u001b[0;34m\u001b[0m\u001b[0m\n",
            "\u001b[0;32m/usr/local/lib/python3.6/dist-packages/matplotlib/text.py\u001b[0m in \u001b[0;36mset_text\u001b[0;34m(self, s)\u001b[0m\n\u001b[1;32m   1148\u001b[0m         \u001b[0;32mif\u001b[0m \u001b[0ms\u001b[0m \u001b[0;32mis\u001b[0m \u001b[0;32mNone\u001b[0m\u001b[0;34m:\u001b[0m\u001b[0;34m\u001b[0m\u001b[0;34m\u001b[0m\u001b[0m\n\u001b[1;32m   1149\u001b[0m             \u001b[0ms\u001b[0m \u001b[0;34m=\u001b[0m \u001b[0;34m''\u001b[0m\u001b[0;34m\u001b[0m\u001b[0;34m\u001b[0m\u001b[0m\n\u001b[0;32m-> 1150\u001b[0;31m         \u001b[0;32mif\u001b[0m \u001b[0ms\u001b[0m \u001b[0;34m!=\u001b[0m \u001b[0mself\u001b[0m\u001b[0;34m.\u001b[0m\u001b[0m_text\u001b[0m\u001b[0;34m:\u001b[0m\u001b[0;34m\u001b[0m\u001b[0;34m\u001b[0m\u001b[0m\n\u001b[0m\u001b[1;32m   1151\u001b[0m             \u001b[0mself\u001b[0m\u001b[0;34m.\u001b[0m\u001b[0m_text\u001b[0m \u001b[0;34m=\u001b[0m \u001b[0mstr\u001b[0m\u001b[0;34m(\u001b[0m\u001b[0ms\u001b[0m\u001b[0;34m)\u001b[0m\u001b[0;34m\u001b[0m\u001b[0;34m\u001b[0m\u001b[0m\n\u001b[1;32m   1152\u001b[0m             \u001b[0mself\u001b[0m\u001b[0;34m.\u001b[0m\u001b[0mstale\u001b[0m \u001b[0;34m=\u001b[0m \u001b[0;32mTrue\u001b[0m\u001b[0;34m\u001b[0m\u001b[0;34m\u001b[0m\u001b[0m\n",
            "\u001b[0;32m/usr/local/lib/python3.6/dist-packages/pandas/core/generic.py\u001b[0m in \u001b[0;36m__nonzero__\u001b[0;34m(self)\u001b[0m\n\u001b[1;32m   1553\u001b[0m             \u001b[0;34m\"The truth value of a {0} is ambiguous. \"\u001b[0m\u001b[0;34m\u001b[0m\u001b[0;34m\u001b[0m\u001b[0m\n\u001b[1;32m   1554\u001b[0m             \"Use a.empty, a.bool(), a.item(), a.any() or a.all().\".format(\n\u001b[0;32m-> 1555\u001b[0;31m                 \u001b[0mself\u001b[0m\u001b[0;34m.\u001b[0m\u001b[0m__class__\u001b[0m\u001b[0;34m.\u001b[0m\u001b[0m__name__\u001b[0m\u001b[0;34m\u001b[0m\u001b[0;34m\u001b[0m\u001b[0m\n\u001b[0m\u001b[1;32m   1556\u001b[0m             )\n\u001b[1;32m   1557\u001b[0m         )\n",
            "\u001b[0;31mValueError\u001b[0m: The truth value of a Series is ambiguous. Use a.empty, a.bool(), a.item(), a.any() or a.all()."
          ]
        },
        {
          "output_type": "display_data",
          "data": {
            "text/plain": [
              "<Figure size 3600x432 with 0 Axes>"
            ]
          },
          "metadata": {
            "tags": []
          }
        },
        {
          "output_type": "display_data",
          "data": {
            "image/png": "[encoded data removed]",
            "text/plain": [
              "<Figure size 360x360 with 1 Axes>"
            ]
          },
          "metadata": {
            "tags": []
          }
        }
      ]
    },
    {
      "cell_type": "markdown",
      "metadata": {
        "id": "sCEEN-I7MS3U",
        "colab_type": "text"
      },
      "source": [
        "# Salários\n"
      ]
    },
    {
      "cell_type": "code",
      "metadata": {
        "id": "lfWLO-R14sNe",
        "colab_type": "code",
        "outputId": "04db81e9-e140-4a7a-f0c0-7ce8f7cee7a1",
        "colab": {
          "base_uri": "https://localhost:8080/",
          "height": 170
        }
      },
      "source": [
        "selecao_comissionados = dados_ativo.regime == 'OUTROS'\n",
        "qtd_comissao = dados_ativo[selecao_comissionados]\n",
        "qtd_comissao['ult_remu_bruta'].describe()"
      ],
      "execution_count": 28,
      "outputs": [
        {
          "output_type": "execute_result",
          "data": {
            "text/plain": [
              "count     1057.000000\n",
              "mean      3279.800161\n",
              "std       4996.023809\n",
              "min          0.000000\n",
              "25%          0.000000\n",
              "50%       3330.430000\n",
              "75%       3430.430000\n",
              "max      43966.850000\n",
              "Name: ult_remu_bruta, dtype: float64"
            ]
          },
          "metadata": {
            "tags": []
          },
          "execution_count": 28
        }
      ]
    },
    {
      "cell_type": "code",
      "metadata": {
        "id": "soN3gNPx6OIy",
        "colab_type": "code",
        "outputId": "1a9534dd-b5fe-4209-d4ff-26bbedb59691",
        "colab": {
          "base_uri": "https://localhost:8080/",
          "height": 170
        }
      },
      "source": [
        "selecao_estatutario = dados_ativo.regime == 'ESTATUTÁRIO'\n",
        "qtd_estatutario = dados_ativo[selecao_estatutario]\n",
        "qtd_estatutario['ult_remu_bruta'].describe()"
      ],
      "execution_count": 29,
      "outputs": [
        {
          "output_type": "execute_result",
          "data": {
            "text/plain": [
              "count    133214.000000\n",
              "mean       6616.306697\n",
              "std        4691.411747\n",
              "min           0.000000\n",
              "25%        3968.030000\n",
              "50%        5311.430000\n",
              "75%        7182.640000\n",
              "max      108303.480000\n",
              "Name: ult_remu_bruta, dtype: float64"
            ]
          },
          "metadata": {
            "tags": []
          },
          "execution_count": 29
        }
      ]
    },
    {
      "cell_type": "code",
      "metadata": {
        "id": "FqgiXV9j-WG2",
        "colab_type": "code",
        "outputId": "1901684c-7541-45fc-de42-156e089e3b99",
        "colab": {
          "base_uri": "https://localhost:8080/",
          "height": 340
        }
      },
      "source": [
        "servidor_sortudo = qtd_estatutario['ult_remu_bruta'].idxmax()\n",
        "dados_ativo.loc[servidor_sortudo]"
      ],
      "execution_count": 30,
      "outputs": [
        {
          "output_type": "execute_result",
          "data": {
            "text/plain": [
              "cod_vinculo                                                         432303\n",
              "nome                                                       JOICE MALAKOSKI\n",
              "sigla                                                                 SESP\n",
              "instituicao              Secretaria da Segurança Pública e Administraçã...\n",
              "lotacao                            INSTITUTO DE CRIMINALISTICA DE CURITIBA\n",
              "municipio                                                         CURITIBA\n",
              "cargo                                                       PERITO OFICIAL\n",
              "dt_inicio                                                       1995-03-28\n",
              "dt_fim                                                                 NaN\n",
              "regime                                                         ESTATUTÁRIO\n",
              "quadro_funcional                                                      QPPO\n",
              "quadro_funcional_desc                                     PERITOS OFICIAIS\n",
              "tipo_cargo                                                         EFETIVO\n",
              "situacao                                                             ATIVO\n",
              "ult_remu_bruta                                                      108303\n",
              "genero                                                                   F\n",
              "ano_nasc                                                              1967\n",
              "atualizado                                                      2019-12-01\n",
              "Name: 69436, dtype: object"
            ]
          },
          "metadata": {
            "tags": []
          },
          "execution_count": 30
        }
      ]
    },
    {
      "cell_type": "code",
      "metadata": {
        "id": "pge8C9AZDtjx",
        "colab_type": "code",
        "outputId": "debbef4f-4674-4bef-effc-f060db6c1eec",
        "colab": {
          "base_uri": "https://localhost:8080/",
          "height": 340
        }
      },
      "source": [
        "servidor_max = qtd_comissao['ult_remu_bruta'].idxmax()\n",
        "dados_ativo.loc[servidor_max]"
      ],
      "execution_count": 31,
      "outputs": [
        {
          "output_type": "execute_result",
          "data": {
            "text/plain": [
              "cod_vinculo                                      542704\n",
              "nome                     FELIPE JOSE VIDIGAL DOS SANTOS\n",
              "sigla                                            PRPREV\n",
              "instituicao                           PARANAPREVIDÊNCIA\n",
              "lotacao                                            PRES\n",
              "municipio                                      CURITIBA\n",
              "cargo                                DIRETOR-PRESIDENTE\n",
              "dt_inicio                                    2019-02-21\n",
              "dt_fim                                              NaN\n",
              "regime                                           OUTROS\n",
              "quadro_funcional                          ADM. INDIRETA\n",
              "quadro_funcional_desc                     ADM. INDIRETA\n",
              "tipo_cargo                                         ****\n",
              "situacao                                          ATIVO\n",
              "ult_remu_bruta                                  43966.8\n",
              "genero                                                M\n",
              "ano_nasc                                           1951\n",
              "atualizado                                   2019-12-05\n",
              "Name: 157406, dtype: object"
            ]
          },
          "metadata": {
            "tags": []
          },
          "execution_count": 31
        }
      ]
    },
    {
      "cell_type": "code",
      "metadata": {
        "id": "6JY9JtF7Frw1",
        "colab_type": "code",
        "outputId": "6af7edc6-3cfb-4b66-b428-a197010bb395",
        "colab": {
          "base_uri": "https://localhost:8080/",
          "height": 34
        }
      },
      "source": [
        "selecao_estatutario_maior_20 = (dados_ativo.regime == 'ESTATUTÁRIO') & (dados_ativo['ult_remu_bruta'] > 20000 )\n",
        "qtd_estatutario = dados_ativo[selecao_estatutario_maior_20].shape[0]\n",
        "qtd_estatutario"
      ],
      "execution_count": 32,
      "outputs": [
        {
          "output_type": "execute_result",
          "data": {
            "text/plain": [
              "3726"
            ]
          },
          "metadata": {
            "tags": []
          },
          "execution_count": 32
        }
      ]
    },
    {
      "cell_type": "code",
      "metadata": {
        "id": "iDfwBonqG-AN",
        "colab_type": "code",
        "outputId": "6f6572c3-14d4-41d1-8b73-be9ddd31309c",
        "colab": {
          "base_uri": "https://localhost:8080/",
          "height": 34
        }
      },
      "source": [
        "selecao_outros_maior_20 = (dados_ativo.regime == 'OUTROS') & (dados_ativo['ult_remu_bruta'] > 20000 )\n",
        "qtd_estatutario = dados_ativo[selecao_outros_maior_20].shape[0]\n",
        "qtd_estatutario"
      ],
      "execution_count": 33,
      "outputs": [
        {
          "output_type": "execute_result",
          "data": {
            "text/plain": [
              "27"
            ]
          },
          "metadata": {
            "tags": []
          },
          "execution_count": 33
        }
      ]
    },
    {
      "cell_type": "code",
      "metadata": {
        "id": "ybvQfrlxHuWh",
        "colab_type": "code",
        "outputId": "73c0ce82-8260-48d0-cbb5-cb3583e18a0f",
        "colab": {
          "base_uri": "https://localhost:8080/",
          "height": 34
        }
      },
      "source": [
        "selecao_sexof_maior_20 = (dados_ativo.genero == 'F') & (dados_ativo.sigla =='SEED') & (dados_ativo['ult_remu_bruta'] > 20000 )\n",
        "qtd_sexof = dados_ativo[selecao_sexof_maior_20].shape[0]\n",
        "print('{} mulheres que ganham acima de 20 mil '.format(qtd_sexof))"
      ],
      "execution_count": 34,
      "outputs": [
        {
          "output_type": "stream",
          "text": [
            "34 mulheres que ganham acima de 20 mil \n"
          ],
          "name": "stdout"
        }
      ]
    },
    {
      "cell_type": "code",
      "metadata": {
        "id": "YoBHTZrUIXG6",
        "colab_type": "code",
        "outputId": "f1fcbce9-da65-447c-e128-1616cc0ab499",
        "colab": {
          "base_uri": "https://localhost:8080/",
          "height": 34
        }
      },
      "source": [
        "selecao_sexom_maior_20 = (dados_ativo.genero == 'M') & (dados_ativo.sigla =='SEED') & (dados_ativo['ult_remu_bruta'] > 20000 )\n",
        "qtd_sexom = dados_ativo[selecao_sexom_maior_20].shape[0]\n",
        "print('{} homens que ganham acima de 20 mil '.format(qtd_sexom))"
      ],
      "execution_count": 35,
      "outputs": [
        {
          "output_type": "stream",
          "text": [
            "4 homens que ganham acima de 20 mil \n"
          ],
          "name": "stdout"
        }
      ]
    },
    {
      "cell_type": "code",
      "metadata": {
        "id": "PTZArDhqOaVf",
        "colab_type": "code",
        "outputId": "9f022384-96cb-4dee-8720-5a3439bbc66d",
        "colab": {
          "base_uri": "https://localhost:8080/",
          "height": 34
        }
      },
      "source": [
        "mulheres_comissionadas = (dados_ativo.genero == 'F') & (dados_ativo.cargo == 'CARGO EM COMISSÃO') & (dados_ativo['ult_remu_bruta'] > 0000 )\n",
        "qtd_fem_com = dados_ativo[mulheres_comissionadas].shape[0]  \n",
        "print('{} mulheres comissionadas'.format(qtd_fem_com))"
      ],
      "execution_count": 36,
      "outputs": [
        {
          "output_type": "stream",
          "text": [
            "337 mulheres comissionadas\n"
          ],
          "name": "stdout"
        }
      ]
    },
    {
      "cell_type": "code",
      "metadata": {
        "id": "Yg0ujvmIQFVi",
        "colab_type": "code",
        "outputId": "89dd0b4c-f4e6-4577-e275-1276b4d9f019",
        "colab": {
          "base_uri": "https://localhost:8080/",
          "height": 34
        }
      },
      "source": [
        "hm_comissionadas = (dados_ativo.genero == 'M') & (dados_ativo.cargo == 'CARGO EM COMISSÃO')\n",
        "qtd_hm_com = dados_ativo[hm_comissionadas].shape[0]  \n",
        "print('{} homens comissionados'.format(qtd_hm_com))"
      ],
      "execution_count": 37,
      "outputs": [
        {
          "output_type": "stream",
          "text": [
            "300 homens comissionados\n"
          ],
          "name": "stdout"
        }
      ]
    },
    {
      "cell_type": "code",
      "metadata": {
        "id": "Qam3uU7nQjvj",
        "colab_type": "code",
        "outputId": "54772219-49a5-441a-8525-e25eb0404306",
        "colab": {
          "base_uri": "https://localhost:8080/",
          "height": 34
        }
      },
      "source": [
        "total = (dados_ativo.cargo == 'CARGO EM COMISSÃO')\n",
        "total_com = dados_ativo[total].shape[0]  \n",
        "print('{}  comissionadas'.format(total_com))"
      ],
      "execution_count": 38,
      "outputs": [
        {
          "output_type": "stream",
          "text": [
            "834  comissionadas\n"
          ],
          "name": "stdout"
        }
      ]
    },
    {
      "cell_type": "code",
      "metadata": {
        "id": "uaFnqshqSJvv",
        "colab_type": "code",
        "outputId": "57a78780-e74f-4418-d5d2-6c5a1fefde5f",
        "colab": {
          "base_uri": "https://localhost:8080/",
          "height": 421
        }
      },
      "source": [
        "pd.pivot_table(dados_ativo, index= [\"regime\", \"genero\"], values=\"ult_remu_bruta\",aggfunc=[np.count_nonzero,np.mean],margins=False)"
      ],
      "execution_count": 39,
      "outputs": [
        {
          "output_type": "execute_result",
          "data": {
            "text/html": [
              "<div>\n",
              "<style scoped>\n",
              "    .dataframe tbody tr th:only-of-type {\n",
              "        vertical-align: middle;\n",
              "    }\n",
              "\n",
              "    .dataframe tbody tr th {\n",
              "        vertical-align: top;\n",
              "    }\n",
              "\n",
              "    .dataframe thead tr th {\n",
              "        text-align: left;\n",
              "    }\n",
              "\n",
              "    .dataframe thead tr:last-of-type th {\n",
              "        text-align: right;\n",
              "    }\n",
              "</style>\n",
              "<table border=\"1\" class=\"dataframe\">\n",
              "  <thead>\n",
              "    <tr>\n",
              "      <th></th>\n",
              "      <th></th>\n",
              "      <th>count_nonzero</th>\n",
              "      <th>mean</th>\n",
              "    </tr>\n",
              "    <tr>\n",
              "      <th></th>\n",
              "      <th></th>\n",
              "      <th>ult_remu_bruta</th>\n",
              "      <th>ult_remu_bruta</th>\n",
              "    </tr>\n",
              "    <tr>\n",
              "      <th>regime</th>\n",
              "      <th>genero</th>\n",
              "      <th></th>\n",
              "      <th></th>\n",
              "    </tr>\n",
              "  </thead>\n",
              "  <tbody>\n",
              "    <tr>\n",
              "      <th rowspan=\"2\" valign=\"top\">CLT</th>\n",
              "      <th>F</th>\n",
              "      <td>1837.0</td>\n",
              "      <td>5752.896459</td>\n",
              "    </tr>\n",
              "    <tr>\n",
              "      <th>M</th>\n",
              "      <td>2650.0</td>\n",
              "      <td>11416.513236</td>\n",
              "    </tr>\n",
              "    <tr>\n",
              "      <th rowspan=\"2\" valign=\"top\">CRES</th>\n",
              "      <th>F</th>\n",
              "      <td>1099.0</td>\n",
              "      <td>5146.008702</td>\n",
              "    </tr>\n",
              "    <tr>\n",
              "      <th>M</th>\n",
              "      <td>804.0</td>\n",
              "      <td>5200.241390</td>\n",
              "    </tr>\n",
              "    <tr>\n",
              "      <th rowspan=\"2\" valign=\"top\">ESTATUTÁRIO</th>\n",
              "      <th>F</th>\n",
              "      <td>77808.0</td>\n",
              "      <td>6158.943852</td>\n",
              "    </tr>\n",
              "    <tr>\n",
              "      <th>M</th>\n",
              "      <td>55080.0</td>\n",
              "      <td>7262.616303</td>\n",
              "    </tr>\n",
              "    <tr>\n",
              "      <th rowspan=\"2\" valign=\"top\">OUTROS</th>\n",
              "      <th>F</th>\n",
              "      <td>459.0</td>\n",
              "      <td>2852.563298</td>\n",
              "    </tr>\n",
              "    <tr>\n",
              "      <th>M</th>\n",
              "      <td>286.0</td>\n",
              "      <td>3992.940480</td>\n",
              "    </tr>\n",
              "    <tr>\n",
              "      <th rowspan=\"2\" valign=\"top\">TEMPORÁRIO</th>\n",
              "      <th>F</th>\n",
              "      <td>17450.0</td>\n",
              "      <td>2205.823375</td>\n",
              "    </tr>\n",
              "    <tr>\n",
              "      <th>M</th>\n",
              "      <td>7450.0</td>\n",
              "      <td>2328.830321</td>\n",
              "    </tr>\n",
              "  </tbody>\n",
              "</table>\n",
              "</div>"
            ],
            "text/plain": [
              "                    count_nonzero           mean\n",
              "                   ult_remu_bruta ult_remu_bruta\n",
              "regime      genero                              \n",
              "CLT         F              1837.0    5752.896459\n",
              "            M              2650.0   11416.513236\n",
              "CRES        F              1099.0    5146.008702\n",
              "            M               804.0    5200.241390\n",
              "ESTATUTÁRIO F             77808.0    6158.943852\n",
              "            M             55080.0    7262.616303\n",
              "OUTROS      F               459.0    2852.563298\n",
              "            M               286.0    3992.940480\n",
              "TEMPORÁRIO  F             17450.0    2205.823375\n",
              "            M              7450.0    2328.830321"
            ]
          },
          "metadata": {
            "tags": []
          },
          "execution_count": 39
        }
      ]
    },
    {
      "cell_type": "code",
      "metadata": {
        "id": "Q1T06q-YYv6V",
        "colab_type": "code",
        "outputId": "23a12e57-9e69-4f92-da6b-eca62b862c2a",
        "colab": {
          "base_uri": "https://localhost:8080/",
          "height": 408
        }
      },
      "source": [
        "dados_ativo.info()"
      ],
      "execution_count": 40,
      "outputs": [
        {
          "output_type": "stream",
          "text": [
            "<class 'pandas.core.frame.DataFrame'>\n",
            "RangeIndex: 168202 entries, 0 to 168201\n",
            "Data columns (total 18 columns):\n",
            "cod_vinculo              168202 non-null int64\n",
            "nome                     168202 non-null object\n",
            "sigla                    168202 non-null object\n",
            "instituicao              168202 non-null object\n",
            "lotacao                  168143 non-null object\n",
            "municipio                168202 non-null object\n",
            "cargo                    168202 non-null object\n",
            "dt_inicio                168202 non-null object\n",
            "dt_fim                   0 non-null object\n",
            "regime                   168202 non-null object\n",
            "quadro_funcional         168202 non-null object\n",
            "quadro_funcional_desc    168202 non-null object\n",
            "tipo_cargo               168202 non-null object\n",
            "situacao                 168202 non-null object\n",
            "ult_remu_bruta           168202 non-null float64\n",
            "genero                   168202 non-null object\n",
            "ano_nasc                 168202 non-null int64\n",
            "atualizado               168202 non-null object\n",
            "dtypes: float64(1), int64(2), object(15)\n",
            "memory usage: 23.1+ MB\n"
          ],
          "name": "stdout"
        }
      ]
    }
  ]
}